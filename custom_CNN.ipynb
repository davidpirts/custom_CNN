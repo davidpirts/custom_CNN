{
  "nbformat": 4,
  "nbformat_minor": 0,
  "metadata": {
    "colab": {
      "name": "Untitled4.ipynb",
      "provenance": [],
      "collapsed_sections": [],
      "authorship_tag": "ABX9TyPR6ybpvn8MGLzRXFcMjWEZ",
      "include_colab_link": true
    },
    "kernelspec": {
      "name": "python3",
      "display_name": "Python 3"
    },
    "accelerator": "GPU"
  },
  "cells": [
    {
      "cell_type": "markdown",
      "metadata": {
        "id": "view-in-github",
        "colab_type": "text"
      },
      "source": [
        "<a href=\"https://colab.research.google.com/github/dprugby/custom_CNN/blob/master/custom_CNN.ipynb\" target=\"_parent\"><img src=\"https://colab.research.google.com/assets/colab-badge.svg\" alt=\"Open In Colab\"/></a>"
      ]
    },
    {
      "cell_type": "markdown",
      "metadata": {
        "id": "Ssu_tjOke2lX",
        "colab_type": "text"
      },
      "source": [
        "#Custom ResNets with Keras"
      ]
    },
    {
      "cell_type": "code",
      "metadata": {
        "id": "2jEyoJ_fxX_4",
        "colab_type": "code",
        "colab": {}
      },
      "source": [
        "import tensorflow as tf\n",
        "from tensorflow import keras\n",
        "import numpy as np\n",
        "from functools import partial\n",
        "import pandas as pd\n",
        "import matplotlib.pyplot as plt"
      ],
      "execution_count": 11,
      "outputs": []
    },
    {
      "cell_type": "markdown",
      "metadata": {
        "id": "8osAjDN2uKap",
        "colab_type": "text"
      },
      "source": [
        "## A traditional CNN (as a benchmark on Fashion CIFAR10)"
      ]
    },
    {
      "cell_type": "code",
      "metadata": {
        "id": "Z7PjQoF7356v",
        "colab_type": "code",
        "colab": {
          "base_uri": "https://localhost:8080/",
          "height": 51
        },
        "outputId": "08468856-2a83-4454-bf78-a761cd3338fc"
      },
      "source": [
        "# import CIFAR10\n",
        "(X_train_full, y_train_full), (X_test, y_test) = tf.keras.datasets.cifar10.load_data()\n",
        "X_valid, X_train = X_train_full[:10000] / 255., X_train_full[10000:] / 255.\n",
        "y_valid, y_train = y_train_full[:10000], y_train_full[10000:]\n",
        "X_test = X_test / 255.\n",
        "\n",
        "print(X_train.shape, X_valid.shape, X_test.shape)\n",
        "print(y_train.shape, y_valid.shape, y_test.shape)"
      ],
      "execution_count": 2,
      "outputs": [
        {
          "output_type": "stream",
          "text": [
            "(40000, 32, 32, 3) (10000, 32, 32, 3) (10000, 32, 32, 3)\n",
            "(40000, 1) (10000, 1) (10000, 1)\n"
          ],
          "name": "stdout"
        }
      ]
    },
    {
      "cell_type": "code",
      "metadata": {
        "id": "YwbC_GcT36Im",
        "colab_type": "code",
        "colab": {}
      },
      "source": [
        "# assemble a simple CNN\n",
        "model = keras.models.Sequential([\n",
        "    keras.layers.Conv2D(64, 7, activation=\"relu\", padding=\"same\", input_shape=[32, 32, 3]),\n",
        "    keras.layers.MaxPooling2D(2),\n",
        "    keras.layers.Conv2D(128, 3, activation=\"relu\", padding=\"same\"),\n",
        "    keras.layers.Conv2D(128, 3, activation=\"relu\", padding=\"same\"),\n",
        "    keras.layers.MaxPooling2D(2),\n",
        "    keras.layers.Conv2D(256, 3, activation=\"relu\", padding=\"same\"),\n",
        "    keras.layers.Conv2D(256, 3, activation=\"relu\", padding=\"same\"),\n",
        "    keras.layers.MaxPooling2D(2),\n",
        "    keras.layers.Flatten(),\n",
        "    keras.layers.Dense(128, activation=\"relu\"),\n",
        "    keras.layers.Dropout(0.5),\n",
        "    keras.layers.Dense(64, activation=\"relu\"),\n",
        "    keras.layers.Dropout(0.5),\n",
        "    keras.layers.Dense(10, activation=\"softmax\"),\n",
        "])"
      ],
      "execution_count": 3,
      "outputs": []
    },
    {
      "cell_type": "code",
      "metadata": {
        "id": "YzhKt1Kq4Wq_",
        "colab_type": "code",
        "colab": {
          "base_uri": "https://localhost:8080/",
          "height": 629
        },
        "outputId": "294cfbb3-97fd-4b27-86ce-bdb2a89a975b"
      },
      "source": [
        "model.summary()"
      ],
      "execution_count": 4,
      "outputs": [
        {
          "output_type": "stream",
          "text": [
            "Model: \"sequential\"\n",
            "_________________________________________________________________\n",
            "Layer (type)                 Output Shape              Param #   \n",
            "=================================================================\n",
            "conv2d (Conv2D)              (None, 32, 32, 64)        9472      \n",
            "_________________________________________________________________\n",
            "max_pooling2d (MaxPooling2D) (None, 16, 16, 64)        0         \n",
            "_________________________________________________________________\n",
            "conv2d_1 (Conv2D)            (None, 16, 16, 128)       73856     \n",
            "_________________________________________________________________\n",
            "conv2d_2 (Conv2D)            (None, 16, 16, 128)       147584    \n",
            "_________________________________________________________________\n",
            "max_pooling2d_1 (MaxPooling2 (None, 8, 8, 128)         0         \n",
            "_________________________________________________________________\n",
            "conv2d_3 (Conv2D)            (None, 8, 8, 256)         295168    \n",
            "_________________________________________________________________\n",
            "conv2d_4 (Conv2D)            (None, 8, 8, 256)         590080    \n",
            "_________________________________________________________________\n",
            "max_pooling2d_2 (MaxPooling2 (None, 4, 4, 256)         0         \n",
            "_________________________________________________________________\n",
            "flatten (Flatten)            (None, 4096)              0         \n",
            "_________________________________________________________________\n",
            "dense (Dense)                (None, 128)               524416    \n",
            "_________________________________________________________________\n",
            "dropout (Dropout)            (None, 128)               0         \n",
            "_________________________________________________________________\n",
            "dense_1 (Dense)              (None, 64)                8256      \n",
            "_________________________________________________________________\n",
            "dropout_1 (Dropout)          (None, 64)                0         \n",
            "_________________________________________________________________\n",
            "dense_2 (Dense)              (None, 10)                650       \n",
            "=================================================================\n",
            "Total params: 1,649,482\n",
            "Trainable params: 1,649,482\n",
            "Non-trainable params: 0\n",
            "_________________________________________________________________\n"
          ],
          "name": "stdout"
        }
      ]
    },
    {
      "cell_type": "code",
      "metadata": {
        "id": "SwRKkjzH36Ky",
        "colab_type": "code",
        "colab": {
          "base_uri": "https://localhost:8080/",
          "height": 1000
        },
        "outputId": "080cdfd4-1ce6-4a76-a808-56730f30d819"
      },
      "source": [
        "# compile and train the model\n",
        "optimizer = tf.keras.optimizers.Nadam()\n",
        "model.compile(loss=\"sparse_categorical_crossentropy\", optimizer=optimizer, metrics=[\"accuracy\"])\n",
        "history = model.fit(X_train, y_train, epochs=50, validation_data=(X_valid, y_valid), batch_size=128)"
      ],
      "execution_count": 5,
      "outputs": [
        {
          "output_type": "stream",
          "text": [
            "Epoch 1/50\n",
            "313/313 [==============================] - 17s 54ms/step - loss: 2.3105 - accuracy: 0.1110 - val_loss: 2.2242 - val_accuracy: 0.1355\n",
            "Epoch 2/50\n",
            "313/313 [==============================] - 16s 52ms/step - loss: 2.1280 - accuracy: 0.1925 - val_loss: 1.8094 - val_accuracy: 0.3226\n",
            "Epoch 3/50\n",
            "313/313 [==============================] - 16s 52ms/step - loss: 1.7926 - accuracy: 0.3251 - val_loss: 1.5906 - val_accuracy: 0.4009\n",
            "Epoch 4/50\n",
            "313/313 [==============================] - 16s 52ms/step - loss: 1.6132 - accuracy: 0.4137 - val_loss: 1.4215 - val_accuracy: 0.4755\n",
            "Epoch 5/50\n",
            "313/313 [==============================] - 16s 52ms/step - loss: 1.4862 - accuracy: 0.4631 - val_loss: 1.3370 - val_accuracy: 0.5060\n",
            "Epoch 6/50\n",
            "313/313 [==============================] - 16s 52ms/step - loss: 1.3846 - accuracy: 0.5069 - val_loss: 1.2465 - val_accuracy: 0.5476\n",
            "Epoch 7/50\n",
            "313/313 [==============================] - 16s 52ms/step - loss: 1.2893 - accuracy: 0.5429 - val_loss: 1.1791 - val_accuracy: 0.5858\n",
            "Epoch 8/50\n",
            "313/313 [==============================] - 16s 52ms/step - loss: 1.1850 - accuracy: 0.5850 - val_loss: 1.1155 - val_accuracy: 0.6026\n",
            "Epoch 9/50\n",
            "313/313 [==============================] - 16s 52ms/step - loss: 1.1030 - accuracy: 0.6155 - val_loss: 1.0620 - val_accuracy: 0.6242\n",
            "Epoch 10/50\n",
            "313/313 [==============================] - 17s 53ms/step - loss: 1.0183 - accuracy: 0.6468 - val_loss: 1.0457 - val_accuracy: 0.6385\n",
            "Epoch 11/50\n",
            "313/313 [==============================] - 16s 53ms/step - loss: 0.9325 - accuracy: 0.6778 - val_loss: 1.0070 - val_accuracy: 0.6566\n",
            "Epoch 12/50\n",
            "313/313 [==============================] - 16s 52ms/step - loss: 0.8621 - accuracy: 0.7015 - val_loss: 1.0232 - val_accuracy: 0.6537\n",
            "Epoch 13/50\n",
            "313/313 [==============================] - 16s 52ms/step - loss: 0.7875 - accuracy: 0.7276 - val_loss: 0.9907 - val_accuracy: 0.6734\n",
            "Epoch 14/50\n",
            "313/313 [==============================] - 16s 52ms/step - loss: 0.7234 - accuracy: 0.7520 - val_loss: 1.1808 - val_accuracy: 0.6329\n",
            "Epoch 15/50\n",
            "313/313 [==============================] - 16s 52ms/step - loss: 0.6577 - accuracy: 0.7742 - val_loss: 1.0462 - val_accuracy: 0.6743\n",
            "Epoch 16/50\n",
            "313/313 [==============================] - 16s 52ms/step - loss: 0.6081 - accuracy: 0.7915 - val_loss: 1.0688 - val_accuracy: 0.6698\n",
            "Epoch 17/50\n",
            "313/313 [==============================] - 16s 52ms/step - loss: 0.5735 - accuracy: 0.8026 - val_loss: 1.1204 - val_accuracy: 0.6735\n",
            "Epoch 18/50\n",
            "313/313 [==============================] - 16s 52ms/step - loss: 0.5186 - accuracy: 0.8201 - val_loss: 1.1082 - val_accuracy: 0.6860\n",
            "Epoch 19/50\n",
            "313/313 [==============================] - 16s 52ms/step - loss: 0.4714 - accuracy: 0.8385 - val_loss: 1.2070 - val_accuracy: 0.6826\n",
            "Epoch 20/50\n",
            "313/313 [==============================] - 16s 52ms/step - loss: 0.4418 - accuracy: 0.8475 - val_loss: 1.2183 - val_accuracy: 0.6778\n",
            "Epoch 21/50\n",
            "313/313 [==============================] - 16s 52ms/step - loss: 0.4086 - accuracy: 0.8615 - val_loss: 1.2938 - val_accuracy: 0.6803\n",
            "Epoch 22/50\n",
            "313/313 [==============================] - 16s 52ms/step - loss: 0.3780 - accuracy: 0.8727 - val_loss: 1.3104 - val_accuracy: 0.6922\n",
            "Epoch 23/50\n",
            "313/313 [==============================] - 16s 52ms/step - loss: 0.3619 - accuracy: 0.8789 - val_loss: 1.3361 - val_accuracy: 0.6849\n",
            "Epoch 24/50\n",
            "313/313 [==============================] - 16s 52ms/step - loss: 0.3370 - accuracy: 0.8859 - val_loss: 1.3464 - val_accuracy: 0.6785\n",
            "Epoch 25/50\n",
            "313/313 [==============================] - 16s 52ms/step - loss: 0.3238 - accuracy: 0.8938 - val_loss: 1.3228 - val_accuracy: 0.6843\n",
            "Epoch 26/50\n",
            "313/313 [==============================] - 16s 52ms/step - loss: 0.2922 - accuracy: 0.9025 - val_loss: 1.4613 - val_accuracy: 0.6789\n",
            "Epoch 27/50\n",
            "313/313 [==============================] - 16s 52ms/step - loss: 0.2813 - accuracy: 0.9063 - val_loss: 1.5214 - val_accuracy: 0.6803\n",
            "Epoch 28/50\n",
            "313/313 [==============================] - 16s 52ms/step - loss: 0.2590 - accuracy: 0.9154 - val_loss: 1.5769 - val_accuracy: 0.6756\n",
            "Epoch 29/50\n",
            "313/313 [==============================] - 16s 52ms/step - loss: 0.2595 - accuracy: 0.9162 - val_loss: 1.5386 - val_accuracy: 0.6855\n",
            "Epoch 30/50\n",
            "313/313 [==============================] - 16s 52ms/step - loss: 0.2347 - accuracy: 0.9242 - val_loss: 1.5977 - val_accuracy: 0.6752\n",
            "Epoch 31/50\n",
            "313/313 [==============================] - 16s 52ms/step - loss: 0.2447 - accuracy: 0.9232 - val_loss: 1.5857 - val_accuracy: 0.6804\n",
            "Epoch 32/50\n",
            "313/313 [==============================] - 16s 52ms/step - loss: 0.2173 - accuracy: 0.9309 - val_loss: 1.7628 - val_accuracy: 0.6806\n",
            "Epoch 33/50\n",
            "313/313 [==============================] - 16s 52ms/step - loss: 0.2146 - accuracy: 0.9334 - val_loss: 1.6587 - val_accuracy: 0.6769\n",
            "Epoch 34/50\n",
            "313/313 [==============================] - 16s 52ms/step - loss: 0.1969 - accuracy: 0.9370 - val_loss: 1.7546 - val_accuracy: 0.6851\n",
            "Epoch 35/50\n",
            "313/313 [==============================] - 16s 52ms/step - loss: 0.2125 - accuracy: 0.9342 - val_loss: 1.8257 - val_accuracy: 0.6769\n",
            "Epoch 36/50\n",
            "313/313 [==============================] - 16s 52ms/step - loss: 0.1950 - accuracy: 0.9400 - val_loss: 1.9053 - val_accuracy: 0.6710\n",
            "Epoch 37/50\n",
            "313/313 [==============================] - 16s 52ms/step - loss: 0.2126 - accuracy: 0.9359 - val_loss: 1.8176 - val_accuracy: 0.6837\n",
            "Epoch 38/50\n",
            "313/313 [==============================] - 16s 52ms/step - loss: 0.1731 - accuracy: 0.9453 - val_loss: 1.7698 - val_accuracy: 0.6758\n",
            "Epoch 39/50\n",
            "313/313 [==============================] - 16s 52ms/step - loss: 0.1861 - accuracy: 0.9426 - val_loss: 1.9071 - val_accuracy: 0.6765\n",
            "Epoch 40/50\n",
            "313/313 [==============================] - 16s 52ms/step - loss: 0.1608 - accuracy: 0.9496 - val_loss: 1.8507 - val_accuracy: 0.6717\n",
            "Epoch 41/50\n",
            "313/313 [==============================] - 16s 52ms/step - loss: 0.1814 - accuracy: 0.9433 - val_loss: 1.9788 - val_accuracy: 0.6870\n",
            "Epoch 42/50\n",
            "313/313 [==============================] - 16s 52ms/step - loss: 0.1705 - accuracy: 0.9478 - val_loss: 1.9160 - val_accuracy: 0.6809\n",
            "Epoch 43/50\n",
            "313/313 [==============================] - 16s 52ms/step - loss: 0.1541 - accuracy: 0.9527 - val_loss: 1.9619 - val_accuracy: 0.6838\n",
            "Epoch 44/50\n",
            "313/313 [==============================] - 16s 52ms/step - loss: 0.1727 - accuracy: 0.9467 - val_loss: 2.0142 - val_accuracy: 0.6841\n",
            "Epoch 45/50\n",
            "313/313 [==============================] - 16s 52ms/step - loss: 0.1513 - accuracy: 0.9536 - val_loss: 2.0315 - val_accuracy: 0.6805\n",
            "Epoch 46/50\n",
            "313/313 [==============================] - 16s 52ms/step - loss: 0.1508 - accuracy: 0.9545 - val_loss: 2.1018 - val_accuracy: 0.6779\n",
            "Epoch 47/50\n",
            "313/313 [==============================] - 16s 52ms/step - loss: 0.1457 - accuracy: 0.9564 - val_loss: 2.0622 - val_accuracy: 0.6811\n",
            "Epoch 48/50\n",
            "313/313 [==============================] - 16s 53ms/step - loss: 0.1622 - accuracy: 0.9518 - val_loss: 2.0058 - val_accuracy: 0.6740\n",
            "Epoch 49/50\n",
            "313/313 [==============================] - 16s 52ms/step - loss: 0.1464 - accuracy: 0.9563 - val_loss: 2.0597 - val_accuracy: 0.6821\n",
            "Epoch 50/50\n",
            "313/313 [==============================] - 16s 52ms/step - loss: 0.1457 - accuracy: 0.9552 - val_loss: 2.0379 - val_accuracy: 0.6847\n"
          ],
          "name": "stdout"
        }
      ]
    },
    {
      "cell_type": "code",
      "metadata": {
        "id": "gWcy9VU06keG",
        "colab_type": "code",
        "colab": {
          "base_uri": "https://localhost:8080/",
          "height": 51
        },
        "outputId": "97d2b758-fc50-4b3c-a56f-9f9278d90415"
      },
      "source": [
        "model.evaluate(X_test, y_test)"
      ],
      "execution_count": 6,
      "outputs": [
        {
          "output_type": "stream",
          "text": [
            "313/313 [==============================] - 2s 7ms/step - loss: 2.2135 - accuracy: 0.6704\n"
          ],
          "name": "stdout"
        },
        {
          "output_type": "execute_result",
          "data": {
            "text/plain": [
              "[2.21346116065979, 0.6704000234603882]"
            ]
          },
          "metadata": {
            "tags": []
          },
          "execution_count": 6
        }
      ]
    },
    {
      "cell_type": "code",
      "metadata": {
        "id": "PYQkT1J7DhdB",
        "colab_type": "code",
        "colab": {
          "base_uri": "https://localhost:8080/",
          "height": 204
        },
        "outputId": "e6f80025-dc63-47f0-dd27-5a1c084c05d7"
      },
      "source": [
        "logs_df = pd.DataFrame(history.history)\n",
        "logs_df.head()"
      ],
      "execution_count": 9,
      "outputs": [
        {
          "output_type": "execute_result",
          "data": {
            "text/html": [
              "<div>\n",
              "<style scoped>\n",
              "    .dataframe tbody tr th:only-of-type {\n",
              "        vertical-align: middle;\n",
              "    }\n",
              "\n",
              "    .dataframe tbody tr th {\n",
              "        vertical-align: top;\n",
              "    }\n",
              "\n",
              "    .dataframe thead th {\n",
              "        text-align: right;\n",
              "    }\n",
              "</style>\n",
              "<table border=\"1\" class=\"dataframe\">\n",
              "  <thead>\n",
              "    <tr style=\"text-align: right;\">\n",
              "      <th></th>\n",
              "      <th>loss</th>\n",
              "      <th>accuracy</th>\n",
              "      <th>val_loss</th>\n",
              "      <th>val_accuracy</th>\n",
              "    </tr>\n",
              "  </thead>\n",
              "  <tbody>\n",
              "    <tr>\n",
              "      <th>0</th>\n",
              "      <td>2.310544</td>\n",
              "      <td>0.11100</td>\n",
              "      <td>2.224242</td>\n",
              "      <td>0.1355</td>\n",
              "    </tr>\n",
              "    <tr>\n",
              "      <th>1</th>\n",
              "      <td>2.127966</td>\n",
              "      <td>0.19245</td>\n",
              "      <td>1.809364</td>\n",
              "      <td>0.3226</td>\n",
              "    </tr>\n",
              "    <tr>\n",
              "      <th>2</th>\n",
              "      <td>1.792600</td>\n",
              "      <td>0.32510</td>\n",
              "      <td>1.590587</td>\n",
              "      <td>0.4009</td>\n",
              "    </tr>\n",
              "    <tr>\n",
              "      <th>3</th>\n",
              "      <td>1.613163</td>\n",
              "      <td>0.41370</td>\n",
              "      <td>1.421469</td>\n",
              "      <td>0.4755</td>\n",
              "    </tr>\n",
              "    <tr>\n",
              "      <th>4</th>\n",
              "      <td>1.486246</td>\n",
              "      <td>0.46305</td>\n",
              "      <td>1.337034</td>\n",
              "      <td>0.5060</td>\n",
              "    </tr>\n",
              "  </tbody>\n",
              "</table>\n",
              "</div>"
            ],
            "text/plain": [
              "       loss  accuracy  val_loss  val_accuracy\n",
              "0  2.310544   0.11100  2.224242        0.1355\n",
              "1  2.127966   0.19245  1.809364        0.3226\n",
              "2  1.792600   0.32510  1.590587        0.4009\n",
              "3  1.613163   0.41370  1.421469        0.4755\n",
              "4  1.486246   0.46305  1.337034        0.5060"
            ]
          },
          "metadata": {
            "tags": []
          },
          "execution_count": 9
        }
      ]
    },
    {
      "cell_type": "code",
      "metadata": {
        "id": "H9vS8tjVEA_f",
        "colab_type": "code",
        "colab": {
          "base_uri": "https://localhost:8080/",
          "height": 279
        },
        "outputId": "99655c41-2b6c-40d0-a206-14d9ab46c626"
      },
      "source": [
        "plt.plot(history.history[\"loss\"], label=\"training\")\n",
        "plt.plot(history.history[\"val_loss\"], label=\"validation\")\n",
        "plt.xlabel(\"epoch\")\n",
        "plt.legend()\n",
        "plt.show()"
      ],
      "execution_count": 12,
      "outputs": [
        {
          "output_type": "display_data",
          "data": {
            "image/png": "[encoded data removed]",
            "text/plain": [
              "<Figure size 432x288 with 1 Axes>"
            ]
          },
          "metadata": {
            "tags": [],
            "needs_background": "light"
          }
        }
      ]
    },
    {
      "cell_type": "code",
      "metadata": {
        "id": "SpxdtnX2EMUf",
        "colab_type": "code",
        "colab": {
          "base_uri": "https://localhost:8080/",
          "height": 279
        },
        "outputId": "274b446f-545b-4131-81f0-20b8e1b3c6df"
      },
      "source": [
        "plt.plot(history.history[\"accuracy\"], label=\"training\")\n",
        "plt.plot(history.history[\"val_accuracy\"], label=\"validation\")\n",
        "plt.xlabel(\"epoch\")\n",
        "plt.legend()\n",
        "plt.show()"
      ],
      "execution_count": 13,
      "outputs": [
        {
          "output_type": "display_data",
          "data": {
            "image/png": "[encoded data removed]",
            "text/plain": [
              "<Figure size 432x288 with 1 Axes>"
            ]
          },
          "metadata": {
            "tags": [],
            "needs_background": "light"
          }
        }
      ]
    },
    {
      "cell_type": "code",
      "metadata": {
        "id": "f0N0-U1oETRC",
        "colab_type": "code",
        "colab": {
          "base_uri": "https://localhost:8080/",
          "height": 17
        },
        "outputId": "1d135d0d-07d5-4709-a71a-cacea4feb9c5"
      },
      "source": [
        "model.save('DNN.h5')\n",
        "from google.colab import files\n",
        "files.download(\"DNN.h5\")"
      ],
      "execution_count": 14,
      "outputs": [
        {
          "output_type": "display_data",
          "data": {
            "application/javascript": [
              "\n",
              "    async function download(id, filename, size) {\n",
              "      if (!google.colab.kernel.accessAllowed) {\n",
              "        return;\n",
              "      }\n",
              "      const div = document.createElement('div');\n",
              "      const label = document.createElement('label');\n",
              "      label.textContent = `Downloading \"${filename}\": `;\n",
              "      div.appendChild(label);\n",
              "      const progress = document.createElement('progress');\n",
              "      progress.max = size;\n",
              "      div.appendChild(progress);\n",
              "      document.body.appendChild(div);\n",
              "\n",
              "      const buffers = [];\n",
              "      let downloaded = 0;\n",
              "\n",
              "      const channel = await google.colab.kernel.comms.open(id);\n",
              "      // Send a message to notify the kernel that we're ready.\n",
              "      channel.send({})\n",
              "\n",
              "      for await (const message of channel.messages) {\n",
              "        // Send a message to notify the kernel that we're ready.\n",
              "        channel.send({})\n",
              "        if (message.buffers) {\n",
              "          for (const buffer of message.buffers) {\n",
              "            buffers.push(buffer);\n",
              "            downloaded += buffer.byteLength;\n",
              "            progress.value = downloaded;\n",
              "          }\n",
              "        }\n",
              "      }\n",
              "      const blob = new Blob(buffers, {type: 'application/binary'});\n",
              "      const a = document.createElement('a');\n",
              "      a.href = window.URL.createObjectURL(blob);\n",
              "      a.download = filename;\n",
              "      div.appendChild(a);\n",
              "      a.click();\n",
              "      div.remove();\n",
              "    }\n",
              "  "
            ],
            "text/plain": [
              "<IPython.core.display.Javascript object>"
            ]
          },
          "metadata": {
            "tags": []
          }
        },
        {
          "output_type": "display_data",
          "data": {
            "application/javascript": [
              "download(\"download_574af92b-513f-4929-8854-0a8bf75fe79f\", \"DNN.h5\", 19871760)"
            ],
            "text/plain": [
              "<IPython.core.display.Javascript object>"
            ]
          },
          "metadata": {
            "tags": []
          }
        }
      ]
    },
    {
      "cell_type": "markdown",
      "metadata": {
        "id": "DiMC-6lp6iKZ",
        "colab_type": "text"
      },
      "source": [
        "## A shallow network with Inception blocks"
      ]
    },
    {
      "cell_type": "code",
      "metadata": {
        "id": "OkxA6Uase9-Y",
        "colab_type": "code",
        "colab": {}
      },
      "source": [
        "# a custom residual unit, obtained by subclassing keras.layers.Layer\n",
        "class Inception(keras.layers.Layer):\n",
        "    def __init__(self, filters, activation=\"relu\", **kwargs):\n",
        "        super().__init__(**kwargs)\n",
        "        self.filters = filters\n",
        "        self.activation = keras.activations.get(activation)\n",
        "        self.layers_0 = [\n",
        "        keras.layers.Conv2D(self.filters[0], 1, strides=1, padding=\"same\", use_bias=False),\n",
        "        self.activation]\n",
        "        self.layers_1 = [\n",
        "        keras.layers.Conv2D(self.filters[1], 1, strides=1, padding=\"same\", use_bias=False),\n",
        "        self.activation, \n",
        "        keras.layers.Conv2D(self.filters[2], 3, strides=1, padding=\"same\", use_bias=False),\n",
        "        self.activation]\n",
        "        self.layers_2 = [\n",
        "        keras.layers.Conv2D(self.filters[3], 1, strides=1, padding=\"same\", use_bias=False),\n",
        "        self.activation, \n",
        "        keras.layers.Conv2D(self.filters[4], 5, strides=1, padding=\"same\", use_bias=False),\n",
        "        self.activation]\n",
        "        self.layers_3 = [\n",
        "        keras.layers.MaxPooling2D(pool_size=2, strides=1, padding=\"same\"), \n",
        "        keras.layers.Conv2D(self.filters[5], 5, strides=1, padding=\"same\", use_bias=False),\n",
        "        self.activation]\n",
        "        \n",
        "    def call(self, inputs):\n",
        "        Z0 = inputs\n",
        "        Z1 = inputs\n",
        "        Z2 = inputs\n",
        "        Z3 = inputs\n",
        "\n",
        "        for layer in self.layers_0:\n",
        "            Z0 = layer(Z0)\n",
        "        for layer in self.layers_1:\n",
        "            Z1 = layer(Z1)\n",
        "        for layer in self.layers_2:\n",
        "            Z2 = layer(Z2)\n",
        "        for layer in self.layers_3:\n",
        "            Z3 = layer(Z3)\n",
        "        \n",
        "        return tf.concat([Z0, Z1, Z2, Z3], axis=3)"
      ],
      "execution_count": 15,
      "outputs": []
    },
    {
      "cell_type": "code",
      "metadata": {
        "id": "pX4Zkuj9DGfK",
        "colab_type": "code",
        "colab": {}
      },
      "source": [
        "# assemble a simple CNN\n",
        "model = keras.models.Sequential([\n",
        "    keras.layers.Conv2D(32, 5, activation=\"relu\", padding=\"same\", input_shape=[32, 32, 3]),\n",
        "    keras.layers.MaxPooling2D(pool_size=3, strides=1, padding=\"same\"),\n",
        "    Inception([32, 48, 64, 8, 16, 16]),\n",
        "    keras.layers.Conv2D(32, 3, activation=\"relu\", padding=\"same\"),\n",
        "    keras.layers.MaxPooling2D(pool_size=3, strides=1, padding=\"same\"),\n",
        "    Inception([32, 48, 64, 8, 16, 16]),\n",
        "    keras.layers.GlobalAveragePooling2D(),\n",
        "    #keras.layers.Dropout(0.5),\n",
        "    keras.layers.Dense(10, activation=\"softmax\"),\n",
        "])"
      ],
      "execution_count": 16,
      "outputs": []
    },
    {
      "cell_type": "code",
      "metadata": {
        "id": "3MtAOibZ6fsN",
        "colab_type": "code",
        "colab": {
          "base_uri": "https://localhost:8080/",
          "height": 425
        },
        "outputId": "3876b88b-9a35-43e6-96df-8e6d842af7a5"
      },
      "source": [
        "model.summary()"
      ],
      "execution_count": 17,
      "outputs": [
        {
          "output_type": "stream",
          "text": [
            "Model: \"sequential_1\"\n",
            "_________________________________________________________________\n",
            "Layer (type)                 Output Shape              Param #   \n",
            "=================================================================\n",
            "conv2d_5 (Conv2D)            (None, 32, 32, 32)        2432      \n",
            "_________________________________________________________________\n",
            "max_pooling2d_3 (MaxPooling2 (None, 32, 32, 32)        0         \n",
            "_________________________________________________________________\n",
            "inception (Inception)        (None, 32, 32, 128)       46464     \n",
            "_________________________________________________________________\n",
            "conv2d_12 (Conv2D)           (None, 32, 32, 32)        36896     \n",
            "_________________________________________________________________\n",
            "max_pooling2d_5 (MaxPooling2 (None, 32, 32, 32)        0         \n",
            "_________________________________________________________________\n",
            "inception_1 (Inception)      (None, 32, 32, 128)       46464     \n",
            "_________________________________________________________________\n",
            "global_average_pooling2d (Gl (None, 128)               0         \n",
            "_________________________________________________________________\n",
            "dense_3 (Dense)              (None, 10)                1290      \n",
            "=================================================================\n",
            "Total params: 133,546\n",
            "Trainable params: 133,546\n",
            "Non-trainable params: 0\n",
            "_________________________________________________________________\n"
          ],
          "name": "stdout"
        }
      ]
    },
    {
      "cell_type": "code",
      "metadata": {
        "id": "p2PnN6KrDVP8",
        "colab_type": "code",
        "colab": {
          "base_uri": "https://localhost:8080/",
          "height": 1000
        },
        "outputId": "6e329dcd-9953-467e-c7ad-b311fa4fd0cf"
      },
      "source": [
        "# compile and train the model\n",
        "optimizer = tf.keras.optimizers.Nadam()\n",
        "model.compile(loss=\"sparse_categorical_crossentropy\", optimizer=optimizer, metrics=[\"accuracy\"])\n",
        "history = model.fit(X_train, y_train, epochs=50, validation_data=(X_valid, y_valid), batch_size=128)"
      ],
      "execution_count": 18,
      "outputs": [
        {
          "output_type": "stream",
          "text": [
            "Epoch 1/50\n",
            "313/313 [==============================] - 41s 130ms/step - loss: 1.9869 - accuracy: 0.2623 - val_loss: 1.7341 - val_accuracy: 0.3650\n",
            "Epoch 2/50\n",
            "313/313 [==============================] - 40s 127ms/step - loss: 1.6423 - accuracy: 0.3968 - val_loss: 1.6612 - val_accuracy: 0.3958\n",
            "Epoch 3/50\n",
            "313/313 [==============================] - 40s 127ms/step - loss: 1.4995 - accuracy: 0.4482 - val_loss: 1.4572 - val_accuracy: 0.4655\n",
            "Epoch 4/50\n",
            "313/313 [==============================] - 40s 127ms/step - loss: 1.3966 - accuracy: 0.4878 - val_loss: 1.3483 - val_accuracy: 0.4965\n",
            "Epoch 5/50\n",
            "313/313 [==============================] - 40s 127ms/step - loss: 1.3093 - accuracy: 0.5272 - val_loss: 1.3869 - val_accuracy: 0.5076\n",
            "Epoch 6/50\n",
            "313/313 [==============================] - 40s 128ms/step - loss: 1.2429 - accuracy: 0.5555 - val_loss: 1.2545 - val_accuracy: 0.5518\n",
            "Epoch 7/50\n",
            "313/313 [==============================] - 40s 127ms/step - loss: 1.1792 - accuracy: 0.5791 - val_loss: 1.1482 - val_accuracy: 0.5892\n",
            "Epoch 8/50\n",
            "313/313 [==============================] - 40s 127ms/step - loss: 1.1253 - accuracy: 0.5986 - val_loss: 1.2359 - val_accuracy: 0.5492\n",
            "Epoch 9/50\n",
            "313/313 [==============================] - 40s 127ms/step - loss: 1.0833 - accuracy: 0.6159 - val_loss: 1.0601 - val_accuracy: 0.6223\n",
            "Epoch 10/50\n",
            "313/313 [==============================] - 40s 127ms/step - loss: 1.0434 - accuracy: 0.6293 - val_loss: 1.2044 - val_accuracy: 0.5596\n",
            "Epoch 11/50\n",
            "313/313 [==============================] - 40s 127ms/step - loss: 1.0107 - accuracy: 0.6418 - val_loss: 1.0872 - val_accuracy: 0.6087\n",
            "Epoch 12/50\n",
            "313/313 [==============================] - 40s 127ms/step - loss: 0.9746 - accuracy: 0.6544 - val_loss: 1.0367 - val_accuracy: 0.6266\n",
            "Epoch 13/50\n",
            "313/313 [==============================] - 40s 128ms/step - loss: 0.9506 - accuracy: 0.6657 - val_loss: 1.0101 - val_accuracy: 0.6454\n",
            "Epoch 14/50\n",
            "313/313 [==============================] - 40s 128ms/step - loss: 0.9172 - accuracy: 0.6775 - val_loss: 1.1164 - val_accuracy: 0.5925\n",
            "Epoch 15/50\n",
            "313/313 [==============================] - 40s 128ms/step - loss: 0.9042 - accuracy: 0.6812 - val_loss: 0.9183 - val_accuracy: 0.6759\n",
            "Epoch 16/50\n",
            "313/313 [==============================] - 40s 128ms/step - loss: 0.8736 - accuracy: 0.6923 - val_loss: 0.9362 - val_accuracy: 0.6664\n",
            "Epoch 17/50\n",
            "313/313 [==============================] - 40s 128ms/step - loss: 0.8529 - accuracy: 0.6990 - val_loss: 0.9076 - val_accuracy: 0.6785\n",
            "Epoch 18/50\n",
            "313/313 [==============================] - 40s 128ms/step - loss: 0.8338 - accuracy: 0.7051 - val_loss: 0.9627 - val_accuracy: 0.6617\n",
            "Epoch 19/50\n",
            "313/313 [==============================] - 40s 128ms/step - loss: 0.8163 - accuracy: 0.7131 - val_loss: 0.8824 - val_accuracy: 0.6893\n",
            "Epoch 20/50\n",
            "313/313 [==============================] - 40s 128ms/step - loss: 0.7939 - accuracy: 0.7222 - val_loss: 0.9068 - val_accuracy: 0.6824\n",
            "Epoch 21/50\n",
            "313/313 [==============================] - 40s 127ms/step - loss: 0.7770 - accuracy: 0.7266 - val_loss: 0.8751 - val_accuracy: 0.6948\n",
            "Epoch 22/50\n",
            "313/313 [==============================] - 40s 128ms/step - loss: 0.7585 - accuracy: 0.7348 - val_loss: 0.8389 - val_accuracy: 0.6991\n",
            "Epoch 23/50\n",
            "313/313 [==============================] - 40s 128ms/step - loss: 0.7431 - accuracy: 0.7386 - val_loss: 0.8656 - val_accuracy: 0.6976\n",
            "Epoch 24/50\n",
            "313/313 [==============================] - 40s 128ms/step - loss: 0.7338 - accuracy: 0.7447 - val_loss: 0.8364 - val_accuracy: 0.7062\n",
            "Epoch 25/50\n",
            "313/313 [==============================] - 40s 128ms/step - loss: 0.7168 - accuracy: 0.7484 - val_loss: 0.9416 - val_accuracy: 0.6759\n",
            "Epoch 26/50\n",
            "313/313 [==============================] - 40s 128ms/step - loss: 0.7046 - accuracy: 0.7530 - val_loss: 0.8070 - val_accuracy: 0.7170\n",
            "Epoch 27/50\n",
            "313/313 [==============================] - 40s 127ms/step - loss: 0.6875 - accuracy: 0.7575 - val_loss: 0.8138 - val_accuracy: 0.7161\n",
            "Epoch 28/50\n",
            "313/313 [==============================] - 40s 128ms/step - loss: 0.6771 - accuracy: 0.7625 - val_loss: 0.7997 - val_accuracy: 0.7201\n",
            "Epoch 29/50\n",
            "313/313 [==============================] - 40s 128ms/step - loss: 0.6668 - accuracy: 0.7670 - val_loss: 0.8588 - val_accuracy: 0.7027\n",
            "Epoch 30/50\n",
            "313/313 [==============================] - 40s 128ms/step - loss: 0.6526 - accuracy: 0.7728 - val_loss: 0.8059 - val_accuracy: 0.7174\n",
            "Epoch 31/50\n",
            "313/313 [==============================] - 40s 128ms/step - loss: 0.6387 - accuracy: 0.7790 - val_loss: 0.7978 - val_accuracy: 0.7209\n",
            "Epoch 32/50\n",
            "313/313 [==============================] - 40s 128ms/step - loss: 0.6287 - accuracy: 0.7827 - val_loss: 0.7976 - val_accuracy: 0.7230\n",
            "Epoch 33/50\n",
            "313/313 [==============================] - 40s 128ms/step - loss: 0.6184 - accuracy: 0.7831 - val_loss: 0.7845 - val_accuracy: 0.7270\n",
            "Epoch 34/50\n",
            "313/313 [==============================] - 40s 128ms/step - loss: 0.6124 - accuracy: 0.7869 - val_loss: 0.7962 - val_accuracy: 0.7205\n",
            "Epoch 35/50\n",
            "313/313 [==============================] - 40s 128ms/step - loss: 0.5996 - accuracy: 0.7911 - val_loss: 0.7561 - val_accuracy: 0.7382\n",
            "Epoch 36/50\n",
            "313/313 [==============================] - 40s 128ms/step - loss: 0.5927 - accuracy: 0.7936 - val_loss: 0.7471 - val_accuracy: 0.7435\n",
            "Epoch 37/50\n",
            "313/313 [==============================] - 40s 128ms/step - loss: 0.5742 - accuracy: 0.7995 - val_loss: 0.8536 - val_accuracy: 0.7168\n",
            "Epoch 38/50\n",
            "313/313 [==============================] - 40s 128ms/step - loss: 0.5703 - accuracy: 0.7996 - val_loss: 0.7430 - val_accuracy: 0.7440\n",
            "Epoch 39/50\n",
            "313/313 [==============================] - 40s 127ms/step - loss: 0.5611 - accuracy: 0.8042 - val_loss: 0.7855 - val_accuracy: 0.7367\n",
            "Epoch 40/50\n",
            "313/313 [==============================] - 40s 127ms/step - loss: 0.5455 - accuracy: 0.8083 - val_loss: 0.7436 - val_accuracy: 0.7445\n",
            "Epoch 41/50\n",
            "313/313 [==============================] - 40s 128ms/step - loss: 0.5419 - accuracy: 0.8095 - val_loss: 0.7504 - val_accuracy: 0.7466\n",
            "Epoch 42/50\n",
            "313/313 [==============================] - 40s 128ms/step - loss: 0.5301 - accuracy: 0.8132 - val_loss: 0.7479 - val_accuracy: 0.7475\n",
            "Epoch 43/50\n",
            "313/313 [==============================] - 40s 128ms/step - loss: 0.5230 - accuracy: 0.8176 - val_loss: 0.7183 - val_accuracy: 0.7487\n",
            "Epoch 44/50\n",
            "313/313 [==============================] - 40s 128ms/step - loss: 0.5149 - accuracy: 0.8191 - val_loss: 0.7556 - val_accuracy: 0.7428\n",
            "Epoch 45/50\n",
            "313/313 [==============================] - 40s 128ms/step - loss: 0.5090 - accuracy: 0.8213 - val_loss: 0.7734 - val_accuracy: 0.7368\n",
            "Epoch 46/50\n",
            "313/313 [==============================] - 40s 128ms/step - loss: 0.5001 - accuracy: 0.8248 - val_loss: 0.7826 - val_accuracy: 0.7388\n",
            "Epoch 47/50\n",
            "313/313 [==============================] - 40s 128ms/step - loss: 0.4903 - accuracy: 0.8295 - val_loss: 0.8172 - val_accuracy: 0.7333\n",
            "Epoch 48/50\n",
            "313/313 [==============================] - 40s 128ms/step - loss: 0.4817 - accuracy: 0.8317 - val_loss: 0.7738 - val_accuracy: 0.7429\n",
            "Epoch 49/50\n",
            "313/313 [==============================] - 40s 128ms/step - loss: 0.4784 - accuracy: 0.8321 - val_loss: 0.7237 - val_accuracy: 0.7630\n",
            "Epoch 50/50\n",
            "313/313 [==============================] - 40s 128ms/step - loss: 0.4688 - accuracy: 0.8346 - val_loss: 0.7546 - val_accuracy: 0.7500\n"
          ],
          "name": "stdout"
        }
      ]
    },
    {
      "cell_type": "code",
      "metadata": {
        "id": "vrLbJ_jbQIVo",
        "colab_type": "code",
        "colab": {
          "base_uri": "https://localhost:8080/",
          "height": 51
        },
        "outputId": "f059d007-6a0e-4093-d770-3061c1d9b469"
      },
      "source": [
        "model.evaluate(X_test, y_test)"
      ],
      "execution_count": 19,
      "outputs": [
        {
          "output_type": "stream",
          "text": [
            "313/313 [==============================] - 4s 13ms/step - loss: 0.7689 - accuracy: 0.7469\n"
          ],
          "name": "stdout"
        },
        {
          "output_type": "execute_result",
          "data": {
            "text/plain": [
              "[0.7688503861427307, 0.7469000220298767]"
            ]
          },
          "metadata": {
            "tags": []
          },
          "execution_count": 19
        }
      ]
    },
    {
      "cell_type": "code",
      "metadata": {
        "id": "6Tn6o1drQIcZ",
        "colab_type": "code",
        "colab": {
          "base_uri": "https://localhost:8080/",
          "height": 204
        },
        "outputId": "a6c644c3-44c2-4eaf-840b-92e46a6f892f"
      },
      "source": [
        "logs_df = pd.DataFrame(history.history)\n",
        "logs_df.head()"
      ],
      "execution_count": 20,
      "outputs": [
        {
          "output_type": "execute_result",
          "data": {
            "text/html": [
              "<div>\n",
              "<style scoped>\n",
              "    .dataframe tbody tr th:only-of-type {\n",
              "        vertical-align: middle;\n",
              "    }\n",
              "\n",
              "    .dataframe tbody tr th {\n",
              "        vertical-align: top;\n",
              "    }\n",
              "\n",
              "    .dataframe thead th {\n",
              "        text-align: right;\n",
              "    }\n",
              "</style>\n",
              "<table border=\"1\" class=\"dataframe\">\n",
              "  <thead>\n",
              "    <tr style=\"text-align: right;\">\n",
              "      <th></th>\n",
              "      <th>loss</th>\n",
              "      <th>accuracy</th>\n",
              "      <th>val_loss</th>\n",
              "      <th>val_accuracy</th>\n",
              "    </tr>\n",
              "  </thead>\n",
              "  <tbody>\n",
              "    <tr>\n",
              "      <th>0</th>\n",
              "      <td>1.986862</td>\n",
              "      <td>0.262350</td>\n",
              "      <td>1.734110</td>\n",
              "      <td>0.3650</td>\n",
              "    </tr>\n",
              "    <tr>\n",
              "      <th>1</th>\n",
              "      <td>1.642319</td>\n",
              "      <td>0.396850</td>\n",
              "      <td>1.661245</td>\n",
              "      <td>0.3958</td>\n",
              "    </tr>\n",
              "    <tr>\n",
              "      <th>2</th>\n",
              "      <td>1.499532</td>\n",
              "      <td>0.448175</td>\n",
              "      <td>1.457193</td>\n",
              "      <td>0.4655</td>\n",
              "    </tr>\n",
              "    <tr>\n",
              "      <th>3</th>\n",
              "      <td>1.396600</td>\n",
              "      <td>0.487775</td>\n",
              "      <td>1.348258</td>\n",
              "      <td>0.4965</td>\n",
              "    </tr>\n",
              "    <tr>\n",
              "      <th>4</th>\n",
              "      <td>1.309292</td>\n",
              "      <td>0.527250</td>\n",
              "      <td>1.386950</td>\n",
              "      <td>0.5076</td>\n",
              "    </tr>\n",
              "  </tbody>\n",
              "</table>\n",
              "</div>"
            ],
            "text/plain": [
              "       loss  accuracy  val_loss  val_accuracy\n",
              "0  1.986862  0.262350  1.734110        0.3650\n",
              "1  1.642319  0.396850  1.661245        0.3958\n",
              "2  1.499532  0.448175  1.457193        0.4655\n",
              "3  1.396600  0.487775  1.348258        0.4965\n",
              "4  1.309292  0.527250  1.386950        0.5076"
            ]
          },
          "metadata": {
            "tags": []
          },
          "execution_count": 20
        }
      ]
    },
    {
      "cell_type": "code",
      "metadata": {
        "id": "DMX21wz3QIe7",
        "colab_type": "code",
        "colab": {
          "base_uri": "https://localhost:8080/",
          "height": 279
        },
        "outputId": "8117200d-f95e-489a-93de-6474806ba985"
      },
      "source": [
        "plt.plot(history.history[\"loss\"], label=\"training\")\n",
        "plt.plot(history.history[\"val_loss\"], label=\"validation\")\n",
        "plt.xlabel(\"epoch\")\n",
        "plt.legend()\n",
        "plt.show()"
      ],
      "execution_count": 21,
      "outputs": [
        {
          "output_type": "display_data",
          "data": {
            "image/png": "[encoded data removed]",
            "text/plain": [
              "<Figure size 432x288 with 1 Axes>"
            ]
          },
          "metadata": {
            "tags": [],
            "needs_background": "light"
          }
        }
      ]
    },
    {
      "cell_type": "code",
      "metadata": {
        "id": "w7EMvZ-nQZU-",
        "colab_type": "code",
        "colab": {
          "base_uri": "https://localhost:8080/",
          "height": 279
        },
        "outputId": "9f88284f-654f-4d24-a4b6-5c4274499e1d"
      },
      "source": [
        "plt.plot(history.history[\"accuracy\"], label=\"training\")\n",
        "plt.plot(history.history[\"val_accuracy\"], label=\"validation\")\n",
        "plt.xlabel(\"epoch\")\n",
        "plt.legend()\n",
        "plt.show()"
      ],
      "execution_count": 22,
      "outputs": [
        {
          "output_type": "display_data",
          "data": {
            "image/png": "[encoded data removed]",
            "text/plain": [
              "<Figure size 432x288 with 1 Axes>"
            ]
          },
          "metadata": {
            "tags": [],
            "needs_background": "light"
          }
        }
      ]
    },
    {
      "cell_type": "markdown",
      "metadata": {
        "id": "v34ZipZPotHG",
        "colab_type": "text"
      },
      "source": [
        "## Mini ResNet"
      ]
    },
    {
      "cell_type": "code",
      "metadata": {
        "id": "j01LezECoz_0",
        "colab_type": "code",
        "colab": {}
      },
      "source": [
        "# assemble a residual block with a skip connection\n",
        "class ResidualUnit(keras.layers.Layer):\n",
        "    def __init__(self, filters, strides=1, activation=\"relu\", **kwargs):\n",
        "        super().__init__(**kwargs)\n",
        "        self.activation = keras.activations.get(activation)\n",
        "        self.main_layers = [\n",
        "            keras.layers.Conv2D(filters, kernel_size=3, strides=strides,\n",
        "                        padding=\"SAME\", use_bias=False),\n",
        "            keras.layers.BatchNormalization(),\n",
        "            self.activation,\n",
        "            keras.layers.Conv2D(filters, kernel_size=3, strides=1,\n",
        "                        padding=\"SAME\", use_bias=False),\n",
        "            keras.layers.BatchNormalization()]\n",
        "        self.skip_layers = []\n",
        "        if strides > 1:\n",
        "            self.skip_layers = [\n",
        "                keras.layers.Conv2D(filters, kernel_size=1, strides=strides,\n",
        "                        padding=\"SAME\", use_bias=False),\n",
        "                keras.layers.BatchNormalization()]\n",
        "\n",
        "    def call(self, inputs):\n",
        "        Z = inputs\n",
        "        for layer in self.main_layers:\n",
        "            Z = layer(Z)\n",
        "        skip_Z = inputs\n",
        "        for layer in self.skip_layers:\n",
        "            skip_Z = layer(skip_Z)\n",
        "        return self.activation(Z + skip_Z)"
      ],
      "execution_count": 71,
      "outputs": []
    },
    {
      "cell_type": "code",
      "metadata": {
        "id": "Ea4KPo-jwxHd",
        "colab_type": "code",
        "colab": {}
      },
      "source": [
        "model = keras.models.Sequential()\n",
        "model.add(keras.layers.Conv2D(64, kernel_size=5, strides=1,\n",
        "                        input_shape=[32, 32, 3]))\n",
        "model.add(keras.layers.MaxPooling2D(2))\n",
        "model.add(keras.layers.BatchNormalization())\n",
        "model.add(keras.layers.Activation(\"relu\"))\n",
        "model.add(ResidualUnit(64))\n",
        "model.add(keras.layers.Dropout(0.3))\n",
        "model.add(ResidualUnit(64))\n",
        "model.add(keras.layers.Dropout(0.3))\n",
        "model.add(ResidualUnit(128, strides=2))\n",
        "model.add(keras.layers.Dropout(0.5))\n",
        "model.add(ResidualUnit(128, strides=1))\n",
        "model.add(keras.layers.Dropout(0.3))\n",
        "model.add(ResidualUnit(256, strides=2))\n",
        "model.add(keras.layers.Dropout(0.5))\n",
        "model.add(ResidualUnit(256, strides=1))\n",
        "model.add(keras.layers.Dropout(0.5))\n",
        "model.add(keras.layers.GlobalAvgPool2D())\n",
        "model.add(keras.layers.Flatten())\n",
        "model.add(keras.layers.Dropout(0.5))\n",
        "model.add(keras.layers.Dense(10, activation=\"softmax\"))"
      ],
      "execution_count": 76,
      "outputs": []
    },
    {
      "cell_type": "code",
      "metadata": {
        "id": "_bwALs4j2cDl",
        "colab_type": "code",
        "colab": {
          "base_uri": "https://localhost:8080/",
          "height": 833
        },
        "outputId": "d52b23d9-a9c0-42f0-949e-20444396c581"
      },
      "source": [
        "model.summary()"
      ],
      "execution_count": 77,
      "outputs": [
        {
          "output_type": "stream",
          "text": [
            "Model: \"sequential_21\"\n",
            "_________________________________________________________________\n",
            "Layer (type)                 Output Shape              Param #   \n",
            "=================================================================\n",
            "conv2d_180 (Conv2D)          (None, 28, 28, 64)        4864      \n",
            "_________________________________________________________________\n",
            "max_pooling2d_9 (MaxPooling2 (None, 14, 14, 64)        0         \n",
            "_________________________________________________________________\n",
            "batch_normalization_160 (Bat (None, 14, 14, 64)        256       \n",
            "_________________________________________________________________\n",
            "activation_16 (Activation)   (None, 14, 14, 64)        0         \n",
            "_________________________________________________________________\n",
            "residual_unit_64 (ResidualUn (None, 14, 14, 64)        74240     \n",
            "_________________________________________________________________\n",
            "dropout_40 (Dropout)         (None, 14, 14, 64)        0         \n",
            "_________________________________________________________________\n",
            "residual_unit_65 (ResidualUn (None, 14, 14, 64)        74240     \n",
            "_________________________________________________________________\n",
            "dropout_41 (Dropout)         (None, 14, 14, 64)        0         \n",
            "_________________________________________________________________\n",
            "residual_unit_66 (ResidualUn (None, 7, 7, 128)         230912    \n",
            "_________________________________________________________________\n",
            "dropout_42 (Dropout)         (None, 7, 7, 128)         0         \n",
            "_________________________________________________________________\n",
            "residual_unit_67 (ResidualUn (None, 7, 7, 128)         295936    \n",
            "_________________________________________________________________\n",
            "dropout_43 (Dropout)         (None, 7, 7, 128)         0         \n",
            "_________________________________________________________________\n",
            "residual_unit_68 (ResidualUn (None, 4, 4, 256)         920576    \n",
            "_________________________________________________________________\n",
            "dropout_44 (Dropout)         (None, 4, 4, 256)         0         \n",
            "_________________________________________________________________\n",
            "residual_unit_69 (ResidualUn (None, 4, 4, 256)         1181696   \n",
            "_________________________________________________________________\n",
            "dropout_45 (Dropout)         (None, 4, 4, 256)         0         \n",
            "_________________________________________________________________\n",
            "global_average_pooling2d_17  (None, 256)               0         \n",
            "_________________________________________________________________\n",
            "flatten_17 (Flatten)         (None, 256)               0         \n",
            "_________________________________________________________________\n",
            "dropout_46 (Dropout)         (None, 256)               0         \n",
            "_________________________________________________________________\n",
            "dense_20 (Dense)             (None, 10)                2570      \n",
            "=================================================================\n",
            "Total params: 2,785,290\n",
            "Trainable params: 2,780,810\n",
            "Non-trainable params: 4,480\n",
            "_________________________________________________________________\n"
          ],
          "name": "stdout"
        }
      ]
    },
    {
      "cell_type": "code",
      "metadata": {
        "id": "rVX6T_st2N8n",
        "colab_type": "code",
        "colab": {
          "base_uri": "https://localhost:8080/",
          "height": 1000
        },
        "outputId": "0c2c59ec-c84c-4731-f67b-db79b4b5127d"
      },
      "source": [
        "# compile and train the model\n",
        "optimizer = tf.keras.optimizers.Nadam()\n",
        "model.compile(loss=\"sparse_categorical_crossentropy\", optimizer=optimizer, metrics=[\"accuracy\"])\n",
        "history = model.fit(X_train, y_train, epochs=50, validation_data=(X_valid, y_valid), batch_size=128)"
      ],
      "execution_count": 78,
      "outputs": [
        {
          "output_type": "stream",
          "text": [
            "Epoch 1/50\n",
            "313/313 [==============================] - 27s 87ms/step - loss: 1.9453 - accuracy: 0.3196 - val_loss: 2.8029 - val_accuracy: 0.1923\n",
            "Epoch 2/50\n",
            "313/313 [==============================] - 27s 86ms/step - loss: 1.3752 - accuracy: 0.5013 - val_loss: 1.7788 - val_accuracy: 0.4386\n",
            "Epoch 3/50\n",
            "313/313 [==============================] - 27s 86ms/step - loss: 1.1553 - accuracy: 0.5879 - val_loss: 1.5911 - val_accuracy: 0.4837\n",
            "Epoch 4/50\n",
            "313/313 [==============================] - 27s 86ms/step - loss: 1.0194 - accuracy: 0.6402 - val_loss: 1.8117 - val_accuracy: 0.4578\n",
            "Epoch 5/50\n",
            "313/313 [==============================] - 27s 86ms/step - loss: 0.9261 - accuracy: 0.6736 - val_loss: 1.4683 - val_accuracy: 0.5227\n",
            "Epoch 6/50\n",
            "313/313 [==============================] - 27s 86ms/step - loss: 0.8505 - accuracy: 0.7034 - val_loss: 1.5945 - val_accuracy: 0.5726\n",
            "Epoch 7/50\n",
            "313/313 [==============================] - 27s 86ms/step - loss: 0.7899 - accuracy: 0.7276 - val_loss: 1.8983 - val_accuracy: 0.4858\n",
            "Epoch 8/50\n",
            "313/313 [==============================] - 27s 86ms/step - loss: 0.7297 - accuracy: 0.7474 - val_loss: 1.7644 - val_accuracy: 0.5457\n",
            "Epoch 9/50\n",
            "313/313 [==============================] - 27s 85ms/step - loss: 0.6875 - accuracy: 0.7658 - val_loss: 1.8385 - val_accuracy: 0.4927\n",
            "Epoch 10/50\n",
            "313/313 [==============================] - 27s 86ms/step - loss: 0.6457 - accuracy: 0.7797 - val_loss: 1.5644 - val_accuracy: 0.5852\n",
            "Epoch 11/50\n",
            "313/313 [==============================] - 27s 86ms/step - loss: 0.6109 - accuracy: 0.7920 - val_loss: 1.0654 - val_accuracy: 0.6926\n",
            "Epoch 12/50\n",
            "313/313 [==============================] - 27s 86ms/step - loss: 0.5774 - accuracy: 0.8032 - val_loss: 1.5026 - val_accuracy: 0.6100\n",
            "Epoch 13/50\n",
            "313/313 [==============================] - 27s 86ms/step - loss: 0.5521 - accuracy: 0.8110 - val_loss: 1.0074 - val_accuracy: 0.6773\n",
            "Epoch 14/50\n",
            "313/313 [==============================] - 27s 86ms/step - loss: 0.5229 - accuracy: 0.8224 - val_loss: 1.3613 - val_accuracy: 0.6349\n",
            "Epoch 15/50\n",
            "313/313 [==============================] - 27s 86ms/step - loss: 0.4991 - accuracy: 0.8302 - val_loss: 0.9219 - val_accuracy: 0.7121\n",
            "Epoch 16/50\n",
            "313/313 [==============================] - 27s 86ms/step - loss: 0.4807 - accuracy: 0.8370 - val_loss: 1.1419 - val_accuracy: 0.6913\n",
            "Epoch 17/50\n",
            "313/313 [==============================] - 27s 86ms/step - loss: 0.4619 - accuracy: 0.8428 - val_loss: 0.8446 - val_accuracy: 0.7364\n",
            "Epoch 18/50\n",
            "313/313 [==============================] - 27s 86ms/step - loss: 0.4437 - accuracy: 0.8494 - val_loss: 1.0065 - val_accuracy: 0.6869\n",
            "Epoch 19/50\n",
            "313/313 [==============================] - 27s 86ms/step - loss: 0.4238 - accuracy: 0.8546 - val_loss: 1.0001 - val_accuracy: 0.7245\n",
            "Epoch 20/50\n",
            "313/313 [==============================] - 27s 86ms/step - loss: 0.4083 - accuracy: 0.8621 - val_loss: 0.6769 - val_accuracy: 0.7850\n",
            "Epoch 21/50\n",
            "313/313 [==============================] - 27s 86ms/step - loss: 0.3953 - accuracy: 0.8658 - val_loss: 0.8199 - val_accuracy: 0.7448\n",
            "Epoch 22/50\n",
            "313/313 [==============================] - 27s 86ms/step - loss: 0.3838 - accuracy: 0.8685 - val_loss: 1.1076 - val_accuracy: 0.6954\n",
            "Epoch 23/50\n",
            "313/313 [==============================] - 27s 85ms/step - loss: 0.3612 - accuracy: 0.8775 - val_loss: 0.8606 - val_accuracy: 0.7416\n",
            "Epoch 24/50\n",
            "313/313 [==============================] - 27s 86ms/step - loss: 0.3618 - accuracy: 0.8778 - val_loss: 1.5356 - val_accuracy: 0.6238\n",
            "Epoch 25/50\n",
            "313/313 [==============================] - 27s 86ms/step - loss: 0.3413 - accuracy: 0.8820 - val_loss: 0.7852 - val_accuracy: 0.7728\n",
            "Epoch 26/50\n",
            "313/313 [==============================] - 27s 86ms/step - loss: 0.3300 - accuracy: 0.8882 - val_loss: 0.7628 - val_accuracy: 0.7750\n",
            "Epoch 27/50\n",
            "313/313 [==============================] - 27s 86ms/step - loss: 0.3219 - accuracy: 0.8900 - val_loss: 1.1463 - val_accuracy: 0.7014\n",
            "Epoch 28/50\n",
            "313/313 [==============================] - 27s 86ms/step - loss: 0.3067 - accuracy: 0.8962 - val_loss: 0.8115 - val_accuracy: 0.7644\n",
            "Epoch 29/50\n",
            "313/313 [==============================] - 27s 86ms/step - loss: 0.3029 - accuracy: 0.8960 - val_loss: 0.6027 - val_accuracy: 0.8091\n",
            "Epoch 30/50\n",
            "313/313 [==============================] - 27s 86ms/step - loss: 0.2864 - accuracy: 0.9019 - val_loss: 0.7328 - val_accuracy: 0.7921\n",
            "Epoch 31/50\n",
            "313/313 [==============================] - 27s 86ms/step - loss: 0.2851 - accuracy: 0.9012 - val_loss: 1.1179 - val_accuracy: 0.7289\n",
            "Epoch 32/50\n",
            "313/313 [==============================] - 27s 86ms/step - loss: 0.2703 - accuracy: 0.9068 - val_loss: 0.8231 - val_accuracy: 0.7834\n",
            "Epoch 33/50\n",
            "313/313 [==============================] - 27s 85ms/step - loss: 0.2660 - accuracy: 0.9090 - val_loss: 1.1130 - val_accuracy: 0.7238\n",
            "Epoch 34/50\n",
            "313/313 [==============================] - 27s 86ms/step - loss: 0.2557 - accuracy: 0.9116 - val_loss: 0.7655 - val_accuracy: 0.7865\n",
            "Epoch 35/50\n",
            "313/313 [==============================] - 27s 85ms/step - loss: 0.2488 - accuracy: 0.9149 - val_loss: 0.7242 - val_accuracy: 0.8027\n",
            "Epoch 36/50\n",
            "313/313 [==============================] - 27s 86ms/step - loss: 0.2473 - accuracy: 0.9144 - val_loss: 0.9912 - val_accuracy: 0.7395\n",
            "Epoch 37/50\n",
            "313/313 [==============================] - 27s 86ms/step - loss: 0.2324 - accuracy: 0.9211 - val_loss: 0.7161 - val_accuracy: 0.8059\n",
            "Epoch 38/50\n",
            "313/313 [==============================] - 27s 86ms/step - loss: 0.2332 - accuracy: 0.9201 - val_loss: 0.7124 - val_accuracy: 0.8118\n",
            "Epoch 39/50\n",
            "313/313 [==============================] - 27s 86ms/step - loss: 0.2265 - accuracy: 0.9214 - val_loss: 0.7881 - val_accuracy: 0.7892\n",
            "Epoch 40/50\n",
            "313/313 [==============================] - 27s 85ms/step - loss: 0.2148 - accuracy: 0.9256 - val_loss: 0.7214 - val_accuracy: 0.8176\n",
            "Epoch 41/50\n",
            "313/313 [==============================] - 27s 86ms/step - loss: 0.2185 - accuracy: 0.9255 - val_loss: 0.7133 - val_accuracy: 0.8009\n",
            "Epoch 42/50\n",
            "313/313 [==============================] - 27s 86ms/step - loss: 0.2087 - accuracy: 0.9280 - val_loss: 0.9811 - val_accuracy: 0.7477\n",
            "Epoch 43/50\n",
            "313/313 [==============================] - 27s 85ms/step - loss: 0.2020 - accuracy: 0.9299 - val_loss: 1.0084 - val_accuracy: 0.7682\n",
            "Epoch 44/50\n",
            "313/313 [==============================] - 27s 86ms/step - loss: 0.1982 - accuracy: 0.9321 - val_loss: 0.7327 - val_accuracy: 0.8038\n",
            "Epoch 45/50\n",
            "313/313 [==============================] - 27s 86ms/step - loss: 0.1920 - accuracy: 0.9333 - val_loss: 0.6870 - val_accuracy: 0.8242\n",
            "Epoch 46/50\n",
            "313/313 [==============================] - 27s 86ms/step - loss: 0.1884 - accuracy: 0.9350 - val_loss: 0.8421 - val_accuracy: 0.7944\n",
            "Epoch 47/50\n",
            "313/313 [==============================] - 27s 86ms/step - loss: 0.1845 - accuracy: 0.9371 - val_loss: 0.8399 - val_accuracy: 0.7929\n",
            "Epoch 48/50\n",
            "313/313 [==============================] - 27s 86ms/step - loss: 0.1818 - accuracy: 0.9371 - val_loss: 0.7752 - val_accuracy: 0.8086\n",
            "Epoch 49/50\n",
            "313/313 [==============================] - 27s 86ms/step - loss: 0.1801 - accuracy: 0.9376 - val_loss: 0.8027 - val_accuracy: 0.8067\n",
            "Epoch 50/50\n",
            "313/313 [==============================] - 27s 86ms/step - loss: 0.1708 - accuracy: 0.9413 - val_loss: 0.8167 - val_accuracy: 0.8023\n"
          ],
          "name": "stdout"
        }
      ]
    },
    {
      "cell_type": "code",
      "metadata": {
        "id": "BRjjpv_eZI8i",
        "colab_type": "code",
        "colab": {
          "base_uri": "https://localhost:8080/",
          "height": 51
        },
        "outputId": "31a41b2b-1972-4a8d-f0a5-751d82973919"
      },
      "source": [
        "model.evaluate(X_test, y_test)"
      ],
      "execution_count": 79,
      "outputs": [
        {
          "output_type": "stream",
          "text": [
            "313/313 [==============================] - 3s 11ms/step - loss: 0.8315 - accuracy: 0.7977\n"
          ],
          "name": "stdout"
        },
        {
          "output_type": "execute_result",
          "data": {
            "text/plain": [
              "[0.8315218687057495, 0.7976999878883362]"
            ]
          },
          "metadata": {
            "tags": []
          },
          "execution_count": 79
        }
      ]
    },
    {
      "cell_type": "code",
      "metadata": {
        "id": "OhtELySfZJF4",
        "colab_type": "code",
        "colab": {
          "base_uri": "https://localhost:8080/",
          "height": 204
        },
        "outputId": "185dc552-e5bf-4ba2-e876-5187c13cf7c1"
      },
      "source": [
        "logs_df = pd.DataFrame(history.history)\n",
        "logs_df.head()"
      ],
      "execution_count": 80,
      "outputs": [
        {
          "output_type": "execute_result",
          "data": {
            "text/html": [
              "<div>\n",
              "<style scoped>\n",
              "    .dataframe tbody tr th:only-of-type {\n",
              "        vertical-align: middle;\n",
              "    }\n",
              "\n",
              "    .dataframe tbody tr th {\n",
              "        vertical-align: top;\n",
              "    }\n",
              "\n",
              "    .dataframe thead th {\n",
              "        text-align: right;\n",
              "    }\n",
              "</style>\n",
              "<table border=\"1\" class=\"dataframe\">\n",
              "  <thead>\n",
              "    <tr style=\"text-align: right;\">\n",
              "      <th></th>\n",
              "      <th>loss</th>\n",
              "      <th>accuracy</th>\n",
              "      <th>val_loss</th>\n",
              "      <th>val_accuracy</th>\n",
              "    </tr>\n",
              "  </thead>\n",
              "  <tbody>\n",
              "    <tr>\n",
              "      <th>0</th>\n",
              "      <td>1.945281</td>\n",
              "      <td>0.319650</td>\n",
              "      <td>2.802887</td>\n",
              "      <td>0.1923</td>\n",
              "    </tr>\n",
              "    <tr>\n",
              "      <th>1</th>\n",
              "      <td>1.375227</td>\n",
              "      <td>0.501325</td>\n",
              "      <td>1.778809</td>\n",
              "      <td>0.4386</td>\n",
              "    </tr>\n",
              "    <tr>\n",
              "      <th>2</th>\n",
              "      <td>1.155306</td>\n",
              "      <td>0.587875</td>\n",
              "      <td>1.591099</td>\n",
              "      <td>0.4837</td>\n",
              "    </tr>\n",
              "    <tr>\n",
              "      <th>3</th>\n",
              "      <td>1.019446</td>\n",
              "      <td>0.640150</td>\n",
              "      <td>1.811658</td>\n",
              "      <td>0.4578</td>\n",
              "    </tr>\n",
              "    <tr>\n",
              "      <th>4</th>\n",
              "      <td>0.926122</td>\n",
              "      <td>0.673550</td>\n",
              "      <td>1.468285</td>\n",
              "      <td>0.5227</td>\n",
              "    </tr>\n",
              "  </tbody>\n",
              "</table>\n",
              "</div>"
            ],
            "text/plain": [
              "       loss  accuracy  val_loss  val_accuracy\n",
              "0  1.945281  0.319650  2.802887        0.1923\n",
              "1  1.375227  0.501325  1.778809        0.4386\n",
              "2  1.155306  0.587875  1.591099        0.4837\n",
              "3  1.019446  0.640150  1.811658        0.4578\n",
              "4  0.926122  0.673550  1.468285        0.5227"
            ]
          },
          "metadata": {
            "tags": []
          },
          "execution_count": 80
        }
      ]
    },
    {
      "cell_type": "code",
      "metadata": {
        "id": "rTbMGkmCZJKH",
        "colab_type": "code",
        "colab": {
          "base_uri": "https://localhost:8080/",
          "height": 279
        },
        "outputId": "35184156-921d-4b24-ac4a-78d60a8c3427"
      },
      "source": [
        "plt.plot(history.history[\"loss\"], label=\"training\")\n",
        "plt.plot(history.history[\"val_loss\"], label=\"validation\")\n",
        "plt.xlabel(\"epoch\")\n",
        "plt.legend()\n",
        "plt.show()"
      ],
      "execution_count": 81,
      "outputs": [
        {
          "output_type": "display_data",
          "data": {
            "image/png": "[encoded data removed]",
            "text/plain": [
              "<Figure size 432x288 with 1 Axes>"
            ]
          },
          "metadata": {
            "tags": [],
            "needs_background": "light"
          }
        }
      ]
    },
    {
      "cell_type": "code",
      "metadata": {
        "id": "QNJzKbGpZJOM",
        "colab_type": "code",
        "colab": {
          "base_uri": "https://localhost:8080/",
          "height": 279
        },
        "outputId": "0ba6febb-b19d-4048-cc28-40b04cc542a0"
      },
      "source": [
        "plt.plot(history.history[\"accuracy\"], label=\"training\")\n",
        "plt.plot(history.history[\"val_accuracy\"], label=\"validation\")\n",
        "plt.xlabel(\"epoch\")\n",
        "plt.legend()\n",
        "plt.show()"
      ],
      "execution_count": 82,
      "outputs": [
        {
          "output_type": "display_data",
          "data": {
            "image/png": "[encoded data removed]",
            "text/plain": [
              "<Figure size 432x288 with 1 Axes>"
            ]
          },
          "metadata": {
            "tags": [],
            "needs_background": "light"
          }
        }
      ]
    }
  ]
}